{
 "cells": [
  {
   "cell_type": "code",
   "execution_count": 1,
   "metadata": {
    "pycharm": {
     "is_executing": false
    }
   },
   "outputs": [],
   "source": [
    "from IPython.core.interactiveshell import InteractiveShell\n",
    "InteractiveShell.ast_node_interactivity = \"all\""
   ]
  },
  {
   "cell_type": "code",
   "execution_count": 2,
   "metadata": {
    "pycharm": {
     "is_executing": false
    }
   },
   "outputs": [],
   "source": [
    " \n",
    "class Stack:\n",
    "    \"\"\"顺序栈\"\"\"\n",
    "    def __init__(self):\n",
    "        self.stack = None\n",
    "    \n",
    "    \n",
    "    def initStack(self):\n",
    "        \"\"\"构造空栈\"\"\"\n",
    "        self.stack = []\n",
    "        return True\n",
    "    \n",
    "    def destroyStack(self):\n",
    "        \"\"\"销毁栈\"\"\"\n",
    "        self.stack = None\n",
    "        \n",
    "    def clearStack(self):\n",
    "        \"\"\"清空栈\"\"\"\n",
    "        self.stack = []\n",
    "    \n",
    "    def isEmpty(self):\n",
    "        \"\"\"判断栈是否为空，若空，True\"\"\"\n",
    "        return not bool(self.stack)\n",
    "    \n",
    "    def length(self):\n",
    "        \"\"\"求栈长度\"\"\"\n",
    "        return len(self.stack)\n",
    "    \n",
    "    def getTop(self):\n",
    "        \"\"\"获取栈顶元素\"\"\"\n",
    "        if self.isEmpty():\n",
    "            return False\n",
    "        return self.stack[-1]\n",
    "    \n",
    "    def push(self,element):\n",
    "        \"\"\"入栈\"\"\"\n",
    "        self.stack.append(element)\n",
    "    \n",
    "    def pop(self):\n",
    "        \"\"\"出栈\"\"\"\n",
    "        if self.isEmpty():\n",
    "            return False\n",
    "        return self.stack.pop()\n",
    "        \n",
    "    def traverse(self):\n",
    "        \"\"\"从栈顶开始，对栈中每个元素调用visit()\"\"\"\n",
    "        if not self.stack:\n",
    "            return False\n",
    "        return map(lambda x:x*2,self.stack)\n",
    "    \n",
    "        \n",
    "    "
   ]
  },
  {
   "cell_type": "markdown",
   "metadata": {},
   "source": [
    "### 数值转换\n",
    "#### 除N取余法\n"
   ]
  },
  {
   "cell_type": "code",
   "execution_count": 3,
   "metadata": {
    "pycharm": {
     "is_executing": false
    }
   },
   "outputs": [
    {
     "data": {
      "text/plain": [
       "[0, 1]"
      ]
     },
     "execution_count": 3,
     "metadata": {},
     "output_type": "execute_result"
    },
    {
     "data": {
      "text/plain": [
       "5"
      ]
     },
     "execution_count": 3,
     "metadata": {},
     "output_type": "execute_result"
    }
   ],
   "source": [
    "from functools import reduce\n",
    "def conversion():\n",
    "    \"\"\"将10进制转换成2进制\"\"\"\n",
    "    stack = Stack()\n",
    "    stack.initStack()\n",
    "    N = int(input(\"enter a num\"))\n",
    "    while(N):\n",
    "        stack.push(N%2)\n",
    "        N =int( N / 2)\n",
    "    return stack\n",
    "\n",
    "def conversion_back():\n",
    "    \"\"\"将2禁止转换为10进制\"\"\"\n",
    "    def func(current_value,next_value):\n",
    "        return current_value*2 + next_value\n",
    "    return reduce(func,[1,0,1])\n",
    "\n",
    "stack = conversion()\n",
    "stack.stack\n",
    "conversion_back()"
   ]
  },
  {
   "cell_type": "markdown",
   "metadata": {},
   "source": [
    "### 括号匹配\n"
   ]
  },
  {
   "cell_type": "code",
   "execution_count": 4,
   "metadata": {
    "pycharm": {
     "is_executing": false
    }
   },
   "outputs": [
    {
     "data": {
      "text/plain": [
       "True"
      ]
     },
     "execution_count": 4,
     "metadata": {},
     "output_type": "execute_result"
    }
   ],
   "source": [
    "from IPython.core.interactiveshell import InteractiveShell\n",
    "InteractiveShell.ast_node_interactivity = \"all\"\n",
    "def match():\n",
    "    \"\"\"\"\"\"\n",
    "    KH = {\n",
    "        ']':'[',\n",
    "        '}':'{',\n",
    "        ')':'('\n",
    "    }\n",
    "    kuohao = '123'#待测试的字符串\n",
    "    stack = Stack()\n",
    "    stack.initStack()\n",
    "    for i in kuohao:\n",
    "        if i in KH.values():\n",
    "            stack.push(i)\n",
    "            stack.stack\n",
    "        else:\n",
    "            if i not in KH.keys():\n",
    "                continue\n",
    "            else:\n",
    "                 if KH[i] != stack.getTop():\n",
    "                        return False\n",
    "            stack.pop()\n",
    "            \n",
    "    if stack.isEmpty():\n",
    "        return True\n",
    "    return False\n",
    "match()\n",
    "    "
   ]
  },
  {
   "cell_type": "markdown",
   "metadata": {},
   "source": [
    "### 行编辑器"
   ]
  },
  {
   "cell_type": "code",
   "execution_count": 5,
   "metadata": {
    "pycharm": {
     "is_executing": false
    }
   },
   "outputs": [
    {
     "name": "stdout",
     "output_type": "stream",
     "text": [
      "['w']\n",
      "['w', 'i']\n",
      "['w', 'i', 't']\n",
      "t\n",
      "['w', 'i']\n",
      "i['w']\n"
     ]
    }
   ],
   "source": [
    "from IPython.core.interactiveshell import InteractiveShell\n",
    "InteractiveShell.ast_node_interactivity = \"all\"\n",
    "\n",
    "def line_edit():\n",
    "    stack = Stack()\n",
    "    stack.initStack()\n",
    "    ch = input('enter:---->')\n",
    "    while ch != 'quit':\n",
    "        while ch != '\\n' and ch != 'quit':\n",
    "            if ch == '#':\n",
    "                print(stack.pop())\n",
    "                print(stack.stack)\n",
    "            elif ch == '@':\n",
    "                stack.clearStack()\n",
    "            else:\n",
    "                stack.push(ch)\n",
    "                print(stack.stack)\n",
    "            ch = input('enter:---->')\n",
    "        \n",
    "        for i in stack.stack:\n",
    "            print(stack.pop(),end='')\n",
    "        \n",
    "        ch = input('enter:---->')\n",
    "    \n",
    "    print(stack.stack)\n",
    "line_edit()"
   ]
  },
  {
   "cell_type": "code",
   "execution_count": 5,
   "metadata": {
    "collapsed": false,
    "jupyter": {
     "outputs_hidden": false
    },
    "pycharm": {
     "is_executing": false,
     "name": "#%%\n"
    }
   },
   "outputs": [],
   "source": []
  },
  {
   "cell_type": "code",
   "execution_count": 5,
   "metadata": {
    "collapsed": false,
    "jupyter": {
     "outputs_hidden": false
    },
    "pycharm": {
     "is_executing": false,
     "name": "#%%\n"
    }
   },
   "outputs": [],
   "source": []
  },
  {
   "cell_type": "code",
   "execution_count": null,
   "metadata": {},
   "outputs": [],
   "source": []
  },
  {
   "cell_type": "code",
   "execution_count": null,
   "metadata": {},
   "outputs": [],
   "source": []
  }
 ],
 "metadata": {
  "kernelspec": {
   "display_name": "Python 3",
   "language": "python",
   "name": "python3"
  },
  "language_info": {
   "codemirror_mode": {
    "name": "ipython",
    "version": 3
   },
   "file_extension": ".py",
   "mimetype": "text/x-python",
   "name": "python",
   "nbconvert_exporter": "python",
   "pygments_lexer": "ipython3",
   "version": "3.7.6"
  },
  "pycharm": {
   "stem_cell": {
    "cell_type": "raw",
    "metadata": {
     "collapsed": false
    },
    "source": []
   }
  }
 },
 "nbformat": 4,
 "nbformat_minor": 4
}
