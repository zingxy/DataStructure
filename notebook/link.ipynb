{
 "cells": [
  {
   "cell_type": "code",
   "execution_count": 42,
   "metadata": {
    "Collapsed": "false"
   },
   "outputs": [],
   "source": [
    "class Node:\n",
    "    length = 0\n",
    "    \n",
    "    def __init__(self,data,next=None):\n",
    "        self.data = data\n",
    "        self.next = next\n",
    "        \n",
    "    \n",
    "    @classmethod\n",
    "    def nodeCounter(cls):\n",
    "        cls.length = cls.length + 1\n",
    "\n",
    "class LinkList:\n",
    "    def __init__(self):\n",
    "        \"\"\"创建头节点\"\"\"\n",
    "        self.header = Node('Header')\n",
    "        self.length = 0\n",
    "        \n",
    "    def addNode(self):\n",
    "        data = input('pleate input data')\n",
    "        if data != 'quit':\n",
    "             return Node(data)\n",
    "        return False\n",
    "\n",
    "        \n",
    "    def createLink(self):  \n",
    "        current = self.header\n",
    "        node = self.addNode()\n",
    "        while node:\n",
    "            current.next = node\n",
    "            self.length += 1\n",
    "            current = current.next\n",
    "            node = self.addNode()\n",
    "    \n",
    "    def printLink(self): \n",
    "        node = self.header.next\n",
    "        while node:\n",
    "            print(node.data)\n",
    "            node = node.next\n",
    "            \n",
    "    \n",
    "    def insertNode(self,index,node):\n",
    "        \n",
    "        if index < self.length and node:\n",
    "            current = self.header\n",
    "            for i in range(0,index):\n",
    "                current = current.next\n",
    "\n",
    "            node.next = current.next\n",
    "            current.next =node\n",
    "            self.length += 1\n",
    "        \n",
    "        \n"
   ]
  },
  {
   "cell_type": "code",
   "execution_count": 43,
   "metadata": {
    "Collapsed": "false"
   },
   "outputs": [
    {
     "name": "stdin",
     "output_type": "stream",
     "text": [
      "pleate input data 0\n",
      "pleate input data 1\n",
      "pleate input data 2\n",
      "pleate input data 3\n",
      "pleate input data quit\n"
     ]
    },
    {
     "name": "stdout",
     "output_type": "stream",
     "text": [
      "0\n",
      "1\n",
      "2\n",
      "3\n",
      "4\n"
     ]
    },
    {
     "name": "stdin",
     "output_type": "stream",
     "text": [
      "pleate input data insert node\n"
     ]
    },
    {
     "name": "stdout",
     "output_type": "stream",
     "text": [
      "0\n",
      "1\n",
      "insert node\n",
      "2\n",
      "3\n"
     ]
    }
   ],
   "source": [
    "L = LinkList()\n",
    "L.createLink()\n",
    "L.printLink()\n",
    "print(L.length)\n",
    "L.insertNode(2,L.addNode())\n",
    "L.printLink()"
   ]
  },
  {
   "cell_type": "code",
   "execution_count": null,
   "metadata": {
    "Collapsed": "false"
   },
   "outputs": [],
   "source": []
  },
  {
   "cell_type": "code",
   "execution_count": null,
   "metadata": {
    "Collapsed": "false"
   },
   "outputs": [],
   "source": []
  }
 ],
 "metadata": {
  "kernelspec": {
   "display_name": "Python 3",
   "language": "python",
   "name": "python3"
  },
  "language_info": {
   "codemirror_mode": {
    "name": "ipython",
    "version": 3
   },
   "file_extension": ".py",
   "mimetype": "text/x-python",
   "name": "python",
   "nbconvert_exporter": "python",
   "pygments_lexer": "ipython3",
   "version": "3.7.6"
  }
 },
 "nbformat": 4,
 "nbformat_minor": 4
}
