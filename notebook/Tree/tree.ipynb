{
 "cells": [
  {
   "cell_type": "markdown",
   "metadata": {
    "Collapsed": "false"
   },
   "source": [
    "# 二叉树的定义"
   ]
  },
  {
   "cell_type": "code",
   "execution_count": 1,
   "metadata": {
    "Collapsed": "false"
   },
   "outputs": [],
   "source": [
    "class BinNode:\n",
    "    \n",
    "    \n",
    "    def __init__(self,data=None,left=None,right=None):\n",
    "        self.data = data\n",
    "        self.left = left\n",
    "        self.right = right\n",
    "        \n",
    "    def visit(self):\n",
    "        \"\"\"打印data\"\"\"\n",
    "        print(self.data)\n",
    "    \n",
    "class Tree:\n",
    "    \n",
    "    def __init__(self):\n",
    "        self.root = None\n",
    "    \n",
    "    def __createTree(self):\n",
    "        \"\"\"注意python传递的类似于,类似于指针\"\"\"\n",
    "        data = input(\"please input data\")\n",
    "        if not data:\n",
    "            return False\n",
    "        else:\n",
    "            root = BinNode()\n",
    "            root.data = data\n",
    "            root.left = self.__createTree()\n",
    "            root.right = self.__createTree()\n",
    "        return root\n",
    "    \n",
    "    def create(self):\n",
    "        self.root = self.__createTree()\n",
    "        \n",
    "    def inOrderTraverse(self,current:BinNode):\n",
    "        \"\"\"中序\"\"\"\n",
    "        if(current):\n",
    "            self.inOrderTraverse(current.left)\n",
    "            print(current.data,end='---')\n",
    "            self.inOrderTraverse(current.right)\n",
    "        \n",
    "    \n",
    "    \n",
    "    def preOrderTraverse(self,current:BinNode):\n",
    "        \"\"\"先序\"\"\"\n",
    "        if(current):\n",
    "            print(current.data,end='---')\n",
    "            self.preOrderTraverse(current.left)\n",
    "            self.preOrderTraverse(current.right)\n",
    "        \n",
    "    \n",
    "    def postOrderTraverse(self,current:BinNode):\n",
    "        \"\"\"后序\"\"\"\n",
    "        if(current):\n",
    "            self.postOrderTraverse(current.left)\n",
    "            self.postOrderTraverse(current.right)\n",
    "            print(current.data,end='---')\n",
    "    \n",
    "   \n",
    "    \n",
    "\n",
    "\n"
   ]
  },
  {
   "cell_type": "markdown",
   "metadata": {
    "Collapsed": "true"
   },
   "source": [
    "# 栈的定义"
   ]
  },
  {
   "cell_type": "code",
   "execution_count": 2,
   "metadata": {
    "Collapsed": "false"
   },
   "outputs": [],
   "source": [
    "class Stack:\n",
    "    \"\"\"顺序栈\"\"\"\n",
    "    def __init__(self):\n",
    "        self.stack = None\n",
    "    \n",
    "    \n",
    "    def initStack(self):\n",
    "        \"\"\"构造空栈\"\"\"\n",
    "        self.stack = []\n",
    "        return True\n",
    "    \n",
    "    def destroyStack(self):\n",
    "        \"\"\"销毁栈\"\"\"\n",
    "        self.stack = None\n",
    "        \n",
    "    def clearStack(self):\n",
    "        \"\"\"清空栈\"\"\"\n",
    "        self.stack = []\n",
    "    \n",
    "    def isEmpty(self):\n",
    "        \"\"\"判断栈是否为空，若空，True\"\"\"\n",
    "        return not bool(self.stack)\n",
    "    \n",
    "    def length(self):\n",
    "        \"\"\"求栈长度\"\"\"\n",
    "        return len(self.stack)\n",
    "    \n",
    "    def getTop(self):\n",
    "        \"\"\"获取栈顶元素\"\"\"\n",
    "        if self.isEmpty():\n",
    "            return False\n",
    "        return self.stack[-1]\n",
    "    \n",
    "    def push(self,element):\n",
    "        \"\"\"入栈\"\"\"\n",
    "        self.stack.append(element)\n",
    "    \n",
    "    def pop(self):\n",
    "        \"\"\"出栈\"\"\"\n",
    "        if self.isEmpty():\n",
    "            return False\n",
    "        return self.stack.pop()\n",
    "        \n",
    "    def traverse(self):\n",
    "        \"\"\"从栈顶开始，对栈中每个元素调用visit()\"\"\"\n",
    "        if not self.stack:\n",
    "            return False\n",
    "        return map(lambda x:x*2,self.stack)\n",
    "    "
   ]
  },
  {
   "cell_type": "markdown",
   "metadata": {
    "Collapsed": "false"
   },
   "source": [
    "# 非递归遍历"
   ]
  },
  {
   "cell_type": "code",
   "execution_count": 5,
   "metadata": {
    "Collapsed": "false"
   },
   "outputs": [],
   "source": [
    "def in_order_traverse(tree:Tree):\n",
    "    \"\"\"非递归 中序\"\"\"\n",
    "    stack = Stack()\n",
    "    stack.initStack()\n",
    "    root = tree.root\n",
    "    while root or not stack.isEmpty():\n",
    "        if root:\n",
    "            stack.push(root)\n",
    "            root = root.left\n",
    "        else:\n",
    "            root = stack.pop()\n",
    "            root.visit()\n",
    "            root = root.right\n",
    "\n",
    "def pre_order_traverse(tree:Tree):\n",
    "    \"\"\"非递归 先序\"\"\"\n",
    "    stack = Stack()\n",
    "    stack.initStack()\n",
    "    root = tree.root\n",
    "    while root or not stack.isEmpty():\n",
    "        if root:\n",
    "            root.visit()\n",
    "            stack.push(root)\n",
    "            root = root.left\n",
    "        else:\n",
    "            root = stack.pop()\n",
    "            root = root.right\n",
    "\n",
    "def post_order_traverse(tree:Tree):\n",
    "    \"\"\"后序\"\"\"\n",
    "    stack = Stack()\n",
    "    stack.initStack()\n",
    "    root = tree.root\n",
    "    flag = None\n",
    "    while root or not stack.isEmpty():\n",
    "        if root:\n",
    "            stack.push(root)\n",
    "            root = root.left\n",
    "        else:\n",
    "            root = stack.getTop()\n",
    "            if root.right and root.right != flag:\n",
    "                root = root.right\n",
    "            else:\n",
    "                root = stack.pop()\n",
    "                root.visit()\n",
    "                flag = root\n",
    "                root = None\n"
   ]
  },
  {
   "cell_type": "code",
   "execution_count": 7,
   "metadata": {
    "Collapsed": "false"
   },
   "outputs": [
    {
     "name": "stdin",
     "output_type": "stream",
     "text": [
      "please input data a\n",
      "please input data b\n",
      "please input data \n",
      "please input data \n",
      "please input data c\n",
      "please input data \n",
      "please input data \n"
     ]
    },
    {
     "name": "stdout",
     "output_type": "stream",
     "text": [
      "b\n",
      "c\n",
      "a\n"
     ]
    }
   ],
   "source": [
    "t = Tree()\n",
    "t.create()\n",
    "post_order_traverse(t)\n"
   ]
  },
  {
   "cell_type": "code",
   "execution_count": null,
   "metadata": {
    "Collapsed": "false"
   },
   "outputs": [],
   "source": []
  }
 ],
 "metadata": {
  "kernelspec": {
   "display_name": "Python 3",
   "language": "python",
   "name": "python3"
  },
  "language_info": {
   "codemirror_mode": {
    "name": "ipython",
    "version": 3
   },
   "file_extension": ".py",
   "mimetype": "text/x-python",
   "name": "python",
   "nbconvert_exporter": "python",
   "pygments_lexer": "ipython3",
   "version": "3.7.6"
  },
  "toc-autonumbering": true,
  "toc-showcode": true,
  "toc-showmarkdowntxt": true,
  "toc-showtags": false
 },
 "nbformat": 4,
 "nbformat_minor": 4
}
