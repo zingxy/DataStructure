{
 "cells": [
  {
   "cell_type": "code",
   "execution_count": 3,
   "metadata": {
    "Collapsed": "false"
   },
   "outputs": [],
   "source": [
    "from IPython.core.interactiveshell import InteractiveShell\n",
    "InteractiveShell.ast_node_interactivity = \"all\""
   ]
  },
  {
   "cell_type": "code",
   "execution_count": null,
   "metadata": {
    "Collapsed": "false"
   },
   "outputs": [],
   "source": []
  },
  {
   "cell_type": "code",
   "execution_count": null,
   "metadata": {
    "Collapsed": "false"
   },
   "outputs": [],
   "source": [
    "class LinkStack:\n",
    "    \"\"\"链栈\"\"\"\n",
    "    \n",
    "    def __init __(self):\n",
    "        self.top = None\n",
    "        self.base = None\n",
    "        self.size = 0\n",
    "    \n",
    "    def initStack(self):\n",
    "        \"\"\"构造空栈\"\"\"\n",
    "        self.stack = []\n",
    "        return True\n",
    "    \n",
    "    def destroyStack(self):\n",
    "        \"\"\"销毁栈\"\"\"\n",
    "        self.stack = None\n",
    "        \n",
    "    def clearStack(self):\n",
    "        \"\"\"清空栈\"\"\"\n",
    "        self.stack = []\n",
    "    \n",
    "    def isEmpty(self):\n",
    "        \"\"\"判断栈是否为空，若空，True\"\"\"\n",
    "        return not bool(self.stack)\n",
    "    \n",
    "    def length(self):\n",
    "        \"\"\"求栈长度\"\"\"\n",
    "        return len(self.stack)\n",
    "    \n",
    "    def getTop(self):\n",
    "        \"\"\"获取栈顶元素\"\"\"\n",
    "        if self.isEmpty():\n",
    "            return False\n",
    "        return self.stack[-1]\n",
    "    \n",
    "    def push(self,element):\n",
    "        \"\"\"入栈\"\"\"\n",
    "        self.stack.append(element)\n",
    "    \n",
    "    def pop(self):\n",
    "        \"\"\"出栈\"\"\"\n",
    "        if self.isEmpty():\n",
    "            return False\n",
    "        return self.stack.pop()\n",
    "        \n",
    "    def traverse(self):\n",
    "        \"\"\"从栈顶开始，对栈中每个元素调用visit()\"\"\"\n",
    "        if not self.stack:\n",
    "            return False\n",
    "        return map(lambda x:x*2,self.stack)\n",
    "    "
   ]
  }
 ],
 "metadata": {
  "kernelspec": {
   "display_name": "Python 3",
   "language": "python",
   "name": "python3"
  },
  "language_info": {
   "codemirror_mode": {
    "name": "ipython",
    "version": 3
   },
   "file_extension": ".py",
   "mimetype": "text/x-python",
   "name": "python",
   "nbconvert_exporter": "python",
   "pygments_lexer": "ipython3",
   "version": "3.7.6"
  }
 },
 "nbformat": 4,
 "nbformat_minor": 4
}
