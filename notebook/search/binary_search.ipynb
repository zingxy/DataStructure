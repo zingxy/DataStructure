{
 "cells": [
  {
   "cell_type": "markdown",
   "metadata": {
    "Collapsed": "false"
   },
   "source": [
    "### Binary Search(二分查找法）\n",
    "* 元素有序\n",
    "* 连续存放(数组）"
   ]
  },
  {
   "cell_type": "code",
   "execution_count": 1,
   "metadata": {
    "Collapsed": "false"
   },
   "outputs": [
    {
     "data": {
      "text/plain": [
       "4"
      ]
     },
     "execution_count": 1,
     "metadata": {},
     "output_type": "execute_result"
    }
   ],
   "source": [
    "def binary_search(arr,k):\n",
    "    left = 0\n",
    "    right = len(arr)\n",
    "    while(left<=right):\n",
    "        mid = int((left + right) / 2)#\n",
    "        if(k<arr[mid]):\n",
    "            right = mid -1\n",
    "        elif(k>arr[mid]):\n",
    "            left = mid + 1\n",
    "        else:\n",
    "            return mid\n",
    "    return False\n",
    "        \n",
    "# testing \n",
    "arr = [1,4,6,7,8]\n",
    "res = binary_search(arr,8)\n",
    "res\n"
   ]
  },
  {
   "cell_type": "code",
   "execution_count": null,
   "metadata": {
    "Collapsed": "false"
   },
   "outputs": [],
   "source": []
  },
  {
   "cell_type": "code",
   "execution_count": null,
   "metadata": {},
   "outputs": [],
   "source": []
  }
 ],
 "metadata": {
  "kernelspec": {
   "display_name": "Python 3",
   "language": "python",
   "name": "python3"
  },
  "language_info": {
   "codemirror_mode": {
    "name": "ipython",
    "version": 3
   },
   "file_extension": ".py",
   "mimetype": "text/x-python",
   "name": "python",
   "nbconvert_exporter": "python",
   "pygments_lexer": "ipython3",
   "version": "3.7.6"
  }
 },
 "nbformat": 4,
 "nbformat_minor": 4
}
